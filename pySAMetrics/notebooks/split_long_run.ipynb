{
 "cells": [
  {
   "cell_type": "code",
   "execution_count": 1,
   "metadata": {},
   "outputs": [],
   "source": [
    "import os\n",
    "import xarray as xr\n",
    "from tqdm import tqdm\n",
    "import matplotlib.pyplot as plt"
   ]
  },
  {
   "cell_type": "code",
   "execution_count": 2,
   "metadata": {},
   "outputs": [],
   "source": [
    "import xarray as xr\n",
    "import os\n",
    "from tqdm import tqdm\n",
    "\n",
    "# Function to split and save datasets along the 'time' dimension from the closest time_start\n",
    "def split_and_save(path_dataset, output_dir, num_splits=10, time_start=None):\n",
    "    # Load the dataset from the given path\n",
    "    dataset = xr.open_dataset(path_dataset)\n",
    "    \n",
    "    # Get the 'time' dimension\n",
    "    time = dataset.coords['time']\n",
    "    \n",
    "    # If a specific time_start is provided, find the closest time in the dataset\n",
    "    if time_start is not None:\n",
    "        # Find the index of the closest time\n",
    "        start_idx = abs(time - time_start).argmin().item()  # Get the index of the closest time\n",
    "        closest_time = time[start_idx].values\n",
    "        print(f\"Closest time to {time_start} is {closest_time}\")\n",
    "    else:\n",
    "        # Default to the first time step if no time_start is provided\n",
    "        start_idx = 0\n",
    "\n",
    "    # Calculate the split size (remaining data from the start_idx onwards)\n",
    "    split_size = (len(time) - start_idx) // num_splits\n",
    "    \n",
    "    # Create output directory if it doesn't exist\n",
    "    os.makedirs(output_dir, exist_ok=True)\n",
    "    \n",
    "    # Split the dataset along the 'time' dimension starting from the closest time_start\n",
    "    for i in tqdm(range(num_splits)):\n",
    "        end_idx = start_idx + split_size if i < num_splits - 1 else len(time)\n",
    "        \n",
    "        # Slice the dataset along the 'time' dimension\n",
    "        time_slice = dataset.sel(time=slice(time[start_idx], time[end_idx - 1]))  # Adjust end time to avoid overflow\n",
    "        \n",
    "        # Save the split dataset to a new NetCDF file\n",
    "        split_filename = os.path.join(output_dir, f\"split_{i + 1}.nc\")\n",
    "        time_slice.to_netcdf(split_filename)\n",
    "        print(f\"Saved: {split_filename}\")\n",
    "        \n",
    "        # Update start_idx for the next split\n",
    "        start_idx = end_idx\n"
   ]
  },
  {
   "cell_type": "code",
   "execution_count": 3,
   "metadata": {},
   "outputs": [],
   "source": [
    "def interpolate_dataset_on_new_time_grid(ds, new_time_array, output_file):\n",
    "    \"\"\"\n",
    "    Interpolate all variables in the input dataset over a new time array.\n",
    "    \n",
    "    Parameters:\n",
    "    ds (xr.Dataset): Input dataset containing a 'time' coordinate.\n",
    "    new_time_array (array-like): The new time points for interpolation.\n",
    "    output_file (str): Path to save the interpolated dataset as a .nc file.\n",
    "    \n",
    "    Returns:\n",
    "    xr.Dataset: Interpolated dataset.\n",
    "    \"\"\"\n",
    "    \n",
    "    # Create a new xarray DataArray for the new time coordinate\n",
    "    new_time = xr.DataArray(new_time_array, dims='time', name='time')\n",
    "    \n",
    "    # Interpolate all variables over the new time coordinate\n",
    "    ds_interpolated = ds.interp(time=new_time)\n",
    "    \n",
    "    # Save the interpolated dataset to a .nc file\n",
    "    ds_interpolated.to_netcdf(output_file)\n",
    "    \n",
    "    return ds_interpolated"
   ]
  },
  {
   "cell_type": "code",
   "execution_count": 14,
   "metadata": {},
   "outputs": [
    {
     "name": "stdout",
     "output_type": "stream",
     "text": [
      "<xarray.Dataset> Size: 306MB\n",
      "Dimensions:     (z: 64, time: 4801)\n",
      "Coordinates:\n",
      "  * z           (z) float32 256B 25.0 75.0 127.8 ... 2.589e+04 2.698e+04\n",
      "  * time        (time) float32 19kB 30.25 30.26 30.27 ... 80.23 80.24 80.25\n",
      "Data variables: (12/330)\n",
      "    p           (z) float32 256B 1.004e+03 998.3 992.3 ... 23.23 19.96 16.88\n",
      "    SST         (time) float32 19kB 300.0 300.0 300.0 300.0 ... 300.0 nan nan\n",
      "    Ps          (time) float32 19kB 1.007e+03 1.007e+03 1.007e+03 ... nan nan\n",
      "    CLDSHD      (time) float32 19kB 0.1654 0.1589 0.153 ... 0.2281 nan nan\n",
      "    AREAPREC    (time) float32 19kB 0.05019 0.04875 0.05145 ... 0.06937 nan nan\n",
      "    CLD245      (time) float32 19kB 0.0923 0.08545 0.08178 ... 0.1572 nan nan\n",
      "    ...          ...\n",
      "    QG          (time, z) float32 1MB 0.0 0.0 0.0 0.0 0.0 ... nan nan nan nan\n",
      "    QCCLD       (time, z) float32 1MB -9.999e+03 -9.999e+03 ... nan nan\n",
      "    QICLD       (time, z) float32 1MB -9.999e+03 -9.999e+03 ... nan nan\n",
      "    QRCLD       (time, z) float32 1MB -9.999e+03 -9.999e+03 ... nan nan\n",
      "    QSCLD       (time, z) float32 1MB -9.999e+03 -9.999e+03 ... nan nan\n",
      "    QGCLD       (time, z) float32 1MB -9.999e+03 -9.999e+03 ... nan nan\n",
      "Attributes:\n",
      "    SAM version:  \n",
      "    caseid:       T300_U0_SAM1MOM_B1_128x128x64\n"
     ]
    }
   ],
   "source": [
    "ds_1 = xr.open_dataset('/home/ec2-user/DeepCloudLab/outputs/new_long_run_RCE_T300_U0_B1_M1/1D/RCE_T300_U0_SAM1MOM_B1_128x128x64.nc')\n",
    "ds_2 = xr.open_dataset('/home/ec2-user/DeepCloudLab/outputs/new_long_run_RCE_T300_U0_B1_M1/2D/dataset_2d.nc')\n",
    "# Define your new time array for interpolation (replace with your desired times)\n",
    "new_time_array = new_time_array = ds_2.time.values  # Example new time array\n",
    "\n",
    "# Interpolate the dataset and save it to a .nc file\n",
    "output_file = '/home/ec2-user/DeepCloudLab/outputs/new_long_run_RCE_T300_U0_B1_M1/1D/dataset_1d.nc'\n",
    "interpolated_ds = interpolate_dataset_on_new_time_grid(ds_1, new_time_array, output_file)\n",
    "\n",
    "# Print the interpolated dataset\n",
    "print(interpolated_ds)\n"
   ]
  },
  {
   "cell_type": "code",
   "execution_count": 15,
   "metadata": {},
   "outputs": [],
   "source": [
    "ds_1d = xr.open_dataset('/home/ec2-user/DeepCloudLab/outputs/new_long_run_RCE_T300_U0_B1_M1/1D/dataset_1d.nc')"
   ]
  },
  {
   "cell_type": "code",
   "execution_count": 17,
   "metadata": {},
   "outputs": [
    {
     "data": {
      "text/plain": [
       "(FrozenMappingWarningOnValuesAccess({'z': 64, 'time': 4801}),\n",
       " FrozenMappingWarningOnValuesAccess({'x': 128, 'y': 128, 'time': 4801}))"
      ]
     },
     "execution_count": 17,
     "metadata": {},
     "output_type": "execute_result"
    }
   ],
   "source": [
    "ds_1d.dims, ds_2.dims"
   ]
  },
  {
   "cell_type": "code",
   "execution_count": 20,
   "metadata": {},
   "outputs": [
    {
     "name": "stderr",
     "output_type": "stream",
     "text": [
      " 10%|█         | 1/10 [00:00<00:05,  1.53it/s]"
     ]
    },
    {
     "name": "stdout",
     "output_type": "stream",
     "text": [
      "Saved: /home/ec2-user/DeepCloudLab/outputs/RCE_splits_v2/1D/split_1.nc\n"
     ]
    },
    {
     "name": "stderr",
     "output_type": "stream",
     "text": [
      " 20%|██        | 2/10 [00:01<00:05,  1.53it/s]"
     ]
    },
    {
     "name": "stdout",
     "output_type": "stream",
     "text": [
      "Saved: /home/ec2-user/DeepCloudLab/outputs/RCE_splits_v2/1D/split_2.nc\n"
     ]
    },
    {
     "name": "stderr",
     "output_type": "stream",
     "text": [
      " 30%|███       | 3/10 [00:01<00:04,  1.53it/s]"
     ]
    },
    {
     "name": "stdout",
     "output_type": "stream",
     "text": [
      "Saved: /home/ec2-user/DeepCloudLab/outputs/RCE_splits_v2/1D/split_3.nc\n"
     ]
    },
    {
     "name": "stderr",
     "output_type": "stream",
     "text": [
      " 40%|████      | 4/10 [00:02<00:03,  1.53it/s]"
     ]
    },
    {
     "name": "stdout",
     "output_type": "stream",
     "text": [
      "Saved: /home/ec2-user/DeepCloudLab/outputs/RCE_splits_v2/1D/split_4.nc\n"
     ]
    },
    {
     "name": "stderr",
     "output_type": "stream",
     "text": [
      " 50%|█████     | 5/10 [00:03<00:03,  1.53it/s]"
     ]
    },
    {
     "name": "stdout",
     "output_type": "stream",
     "text": [
      "Saved: /home/ec2-user/DeepCloudLab/outputs/RCE_splits_v2/1D/split_5.nc\n"
     ]
    },
    {
     "name": "stderr",
     "output_type": "stream",
     "text": [
      " 60%|██████    | 6/10 [00:03<00:02,  1.53it/s]"
     ]
    },
    {
     "name": "stdout",
     "output_type": "stream",
     "text": [
      "Saved: /home/ec2-user/DeepCloudLab/outputs/RCE_splits_v2/1D/split_6.nc\n"
     ]
    },
    {
     "name": "stderr",
     "output_type": "stream",
     "text": [
      " 70%|███████   | 7/10 [00:04<00:01,  1.53it/s]"
     ]
    },
    {
     "name": "stdout",
     "output_type": "stream",
     "text": [
      "Saved: /home/ec2-user/DeepCloudLab/outputs/RCE_splits_v2/1D/split_7.nc\n"
     ]
    },
    {
     "name": "stderr",
     "output_type": "stream",
     "text": [
      " 80%|████████  | 8/10 [00:05<00:01,  1.53it/s]"
     ]
    },
    {
     "name": "stdout",
     "output_type": "stream",
     "text": [
      "Saved: /home/ec2-user/DeepCloudLab/outputs/RCE_splits_v2/1D/split_8.nc\n"
     ]
    },
    {
     "name": "stderr",
     "output_type": "stream",
     "text": [
      " 90%|█████████ | 9/10 [00:05<00:00,  1.53it/s]"
     ]
    },
    {
     "name": "stdout",
     "output_type": "stream",
     "text": [
      "Saved: /home/ec2-user/DeepCloudLab/outputs/RCE_splits_v2/1D/split_9.nc\n"
     ]
    },
    {
     "name": "stderr",
     "output_type": "stream",
     "text": [
      "100%|██████████| 10/10 [00:06<00:00,  1.53it/s]"
     ]
    },
    {
     "name": "stdout",
     "output_type": "stream",
     "text": [
      "Saved: /home/ec2-user/DeepCloudLab/outputs/RCE_splits_v2/1D/split_10.nc\n"
     ]
    },
    {
     "name": "stderr",
     "output_type": "stream",
     "text": [
      "\n"
     ]
    }
   ],
   "source": [
    "path_dataset = '/home/ec2-user/DeepCloudLab/outputs/new_long_run_RCE_T300_U0_B1_M1/1D/dataset_1d.nc'\n",
    "output_dir = '/home/ec2-user/DeepCloudLab/outputs/RCE_splits_v2/1D'\n",
    "\n",
    "# Call the function to split and save the dataset\n",
    "split_and_save(path_dataset, output_dir, num_splits=10)"
   ]
  },
  {
   "cell_type": "code",
   "execution_count": 22,
   "metadata": {},
   "outputs": [
    {
     "name": "stderr",
     "output_type": "stream",
     "text": [
      "  0%|          | 0/10 [00:00<?, ?it/s]"
     ]
    },
    {
     "name": "stderr",
     "output_type": "stream",
     "text": [
      " 10%|█         | 1/10 [00:07<01:11,  7.90s/it]"
     ]
    },
    {
     "name": "stdout",
     "output_type": "stream",
     "text": [
      "Saved: /home/ec2-user/DeepCloudLab/outputs/RCE_splits_v2/2D/split_1.nc\n"
     ]
    },
    {
     "name": "stderr",
     "output_type": "stream",
     "text": [
      " 20%|██        | 2/10 [00:15<01:03,  7.95s/it]"
     ]
    },
    {
     "name": "stdout",
     "output_type": "stream",
     "text": [
      "Saved: /home/ec2-user/DeepCloudLab/outputs/RCE_splits_v2/2D/split_2.nc\n"
     ]
    },
    {
     "name": "stderr",
     "output_type": "stream",
     "text": [
      " 30%|███       | 3/10 [00:23<00:53,  7.70s/it]"
     ]
    },
    {
     "name": "stdout",
     "output_type": "stream",
     "text": [
      "Saved: /home/ec2-user/DeepCloudLab/outputs/RCE_splits_v2/2D/split_3.nc\n"
     ]
    },
    {
     "name": "stderr",
     "output_type": "stream",
     "text": [
      " 40%|████      | 4/10 [00:30<00:45,  7.58s/it]"
     ]
    },
    {
     "name": "stdout",
     "output_type": "stream",
     "text": [
      "Saved: /home/ec2-user/DeepCloudLab/outputs/RCE_splits_v2/2D/split_4.nc\n"
     ]
    },
    {
     "name": "stderr",
     "output_type": "stream",
     "text": [
      " 50%|█████     | 5/10 [00:38<00:38,  7.72s/it]"
     ]
    },
    {
     "name": "stdout",
     "output_type": "stream",
     "text": [
      "Saved: /home/ec2-user/DeepCloudLab/outputs/RCE_splits_v2/2D/split_5.nc\n"
     ]
    },
    {
     "name": "stderr",
     "output_type": "stream",
     "text": [
      " 60%|██████    | 6/10 [00:51<00:38,  9.50s/it]"
     ]
    },
    {
     "name": "stdout",
     "output_type": "stream",
     "text": [
      "Saved: /home/ec2-user/DeepCloudLab/outputs/RCE_splits_v2/2D/split_6.nc\n"
     ]
    },
    {
     "name": "stderr",
     "output_type": "stream",
     "text": [
      " 70%|███████   | 7/10 [01:04<00:31, 10.62s/it]"
     ]
    },
    {
     "name": "stdout",
     "output_type": "stream",
     "text": [
      "Saved: /home/ec2-user/DeepCloudLab/outputs/RCE_splits_v2/2D/split_7.nc\n"
     ]
    },
    {
     "name": "stderr",
     "output_type": "stream",
     "text": [
      " 80%|████████  | 8/10 [01:18<00:23, 11.63s/it]"
     ]
    },
    {
     "name": "stdout",
     "output_type": "stream",
     "text": [
      "Saved: /home/ec2-user/DeepCloudLab/outputs/RCE_splits_v2/2D/split_8.nc\n"
     ]
    },
    {
     "name": "stderr",
     "output_type": "stream",
     "text": [
      " 90%|█████████ | 9/10 [01:32<00:12, 12.46s/it]"
     ]
    },
    {
     "name": "stdout",
     "output_type": "stream",
     "text": [
      "Saved: /home/ec2-user/DeepCloudLab/outputs/RCE_splits_v2/2D/split_9.nc\n"
     ]
    },
    {
     "name": "stderr",
     "output_type": "stream",
     "text": [
      "100%|██████████| 10/10 [01:46<00:00, 10.62s/it]"
     ]
    },
    {
     "name": "stdout",
     "output_type": "stream",
     "text": [
      "Saved: /home/ec2-user/DeepCloudLab/outputs/RCE_splits_v2/2D/split_10.nc\n"
     ]
    },
    {
     "name": "stderr",
     "output_type": "stream",
     "text": [
      "\n"
     ]
    }
   ],
   "source": [
    "path_dataset = '/home/ec2-user/DeepCloudLab/outputs/new_long_run_RCE_T300_U0_B1_M1/2D/dataset_2d.nc'\n",
    "output_dir = '/home/ec2-user/DeepCloudLab/outputs/RCE_splits_v2/2D'\n",
    "\n",
    "# Call the function to split and save the dataset\n",
    "split_and_save(path_dataset, output_dir, num_splits=10)"
   ]
  },
  {
   "cell_type": "code",
   "execution_count": null,
   "metadata": {},
   "outputs": [],
   "source": []
  },
  {
   "cell_type": "code",
   "execution_count": 6,
   "metadata": {},
   "outputs": [
    {
     "name": "stderr",
     "output_type": "stream",
     "text": [
      "  0%|          | 0/1 [00:00<?, ?it/s]"
     ]
    }
   ],
   "source": [
    "path_dataset = '/home/ec2-user/DeepCloudLab/outputs/new_long_run_RCE_T300_U0_B1_M1/3D/dataset_3d.nc'\n",
    "output_dir = '/home/ec2-user/DeepCloudLab/outputs/RCE_splits_v2/3D'\n",
    "\n",
    "# Call the function to split and save the dataset\n",
    "split_and_save(path_dataset, output_dir, num_splits=10)"
   ]
  },
  {
   "cell_type": "code",
   "execution_count": 4,
   "metadata": {},
   "outputs": [],
   "source": [
    "dataset = xr.open_dataset('/home/ec2-user/DeepCloudLab/outputs/new_long_run_RCE_T300_U0_B1_M1/3D/dataset_3d.nc')\n",
    "output_dir = '/home/ec2-user/DeepCloudLab/outputs/RCE_splits_v2/3D'\n",
    "\n",
    "\n",
    "time = dataset.coords['time']\n",
    "\n",
    "start_idx = 0\n",
    "num_splits=10\n",
    "# Calculate the split size (remaining data from the start_idx onwards)\n",
    "split_size = (len(time) - start_idx) // num_splits"
   ]
  },
  {
   "cell_type": "code",
   "execution_count": 5,
   "metadata": {},
   "outputs": [
    {
     "data": {
      "text/plain": [
       "480"
      ]
     },
     "execution_count": 5,
     "metadata": {},
     "output_type": "execute_result"
    }
   ],
   "source": [
    "split_size"
   ]
  },
  {
   "cell_type": "code",
   "execution_count": 9,
   "metadata": {},
   "outputs": [
    {
     "name": "stdout",
     "output_type": "stream",
     "text": [
      "<xarray.DataArray 'time' ()> Size: 4B\n",
      "array(75.25, dtype=float32)\n",
      "Coordinates:\n",
      "    time     float32 4B 75.25\n",
      "Attributes:\n",
      "    units:      d\n",
      "    long_name:  time <xarray.DataArray 'time' ()> Size: 4B\n",
      "array(80.25, dtype=float32)\n",
      "Coordinates:\n",
      "    time     float32 4B 80.25\n",
      "Attributes:\n",
      "    units:      d\n",
      "    long_name:  time\n"
     ]
    },
    {
     "name": "stdout",
     "output_type": "stream",
     "text": [
      "Saved: /home/ec2-user/DeepCloudLab/outputs/RCE_splits_v2/3D/split_10.nc\n"
     ]
    }
   ],
   "source": [
    "dataset = xr.open_dataset('/home/ec2-user/DeepCloudLab/outputs/new_long_run_RCE_T300_U0_B1_M1/3D/dataset_3d.nc')\n",
    "output_dir = '/home/ec2-user/DeepCloudLab/outputs/RCE_splits_v2/3D'\n",
    "\n",
    "time = dataset.coords['time']\n",
    "\n",
    "start_idx = 0\n",
    "num_splits=10\n",
    "# Calculate the split size (remaining data from the start_idx onwards)\n",
    "split_size = (len(time) - start_idx) // num_splits\n",
    "\n",
    "# Create output directory if it doesn't exist\n",
    "os.makedirs(output_dir, exist_ok=True)\n",
    "\n",
    "end_idx = len(time)\n",
    "    \n",
    "# Slice the dataset along the 'time' dimension\n",
    "start_idx = int(9*split_size)\n",
    "time_slice = dataset.sel(time=slice(time[start_idx], time[end_idx-1]))  # Adjust end time to avoid overflow\n",
    "print(time[start_idx], time[end_idx-1])\n",
    "\n",
    "# Save the split dataset to a new NetCDF file\n",
    "split_filename = os.path.join(output_dir, f\"split_{10}.nc\")\n",
    "time_slice.to_netcdf(split_filename)\n",
    "print(f\"Saved: {split_filename}\")\n",
    "\n",
    "# Update start_idx for the next split\n",
    "start_idx = end_idx\n"
   ]
  },
  {
   "cell_type": "code",
   "execution_count": 15,
   "metadata": {},
   "outputs": [
    {
     "name": "stdout",
     "output_type": "stream",
     "text": [
      "480 480 480\n",
      "480 480 480\n",
      "480 480 480\n",
      "480 480 480\n",
      "480 480 480\n",
      "480 480 480\n",
      "480 480 480\n",
      "480 480 480\n",
      "480 480 480\n",
      "480 480 480\n"
     ]
    }
   ],
   "source": [
    "for i in range(1,11):\n",
    "    path_1d = '/home/ec2-user/DeepCloudLab/outputs/RCE_splits_v2/1D/split_2.nc'\n",
    "    path_2d = '/home/ec2-user/DeepCloudLab/outputs/RCE_splits_v2/2D/split_2.nc'\n",
    "    path_3d = '/home/ec2-user/DeepCloudLab/outputs/RCE_splits_v2/3D/split_2.nc'\n",
    "\n",
    "\n",
    "    ds_1d = xr.open_dataset(path_1d)\n",
    "    ds_2d = xr.open_dataset(path_2d)\n",
    "    ds_3d = xr.open_dataset(path_3d)\n",
    "    print(len(ds_1d.time), len(ds_2d.time), len(ds_3d.time))"
   ]
  },
  {
   "cell_type": "code",
   "execution_count": 14,
   "metadata": {},
   "outputs": [
    {
     "name": "stdout",
     "output_type": "stream",
     "text": [
      "480 FrozenMappingWarningOnValuesAccess({'x': 128, 'y': 128, 'time': 480}) FrozenMappingWarningOnValuesAccess({'x': 128, 'y': 128, 'z': 64, 'time': 480})\n"
     ]
    }
   ],
   "source": [
    "print(len(ds_1d.time), ds_2d.dims, ds_3d.dims)"
   ]
  },
  {
   "cell_type": "code",
   "execution_count": 63,
   "metadata": {},
   "outputs": [],
   "source": [
    "ds_1d = xr.open_dataset('/home/ec2-user/DeepCloudLab/outputs/long_run_RCE_T300_U0_B1_M1/RCE_T300_U0_SAM1MOM_B1_128x128x64.nc')"
   ]
  },
  {
   "cell_type": "code",
   "execution_count": 66,
   "metadata": {},
   "outputs": [
    {
     "data": {
      "text/html": [
       "<div><svg style=\"position: absolute; width: 0; height: 0; overflow: hidden\">\n",
       "<defs>\n",
       "<symbol id=\"icon-database\" viewBox=\"0 0 32 32\">\n",
       "<path d=\"M16 0c-8.837 0-16 2.239-16 5v4c0 2.761 7.163 5 16 5s16-2.239 16-5v-4c0-2.761-7.163-5-16-5z\"></path>\n",
       "<path d=\"M16 17c-8.837 0-16-2.239-16-5v6c0 2.761 7.163 5 16 5s16-2.239 16-5v-6c0 2.761-7.163 5-16 5z\"></path>\n",
       "<path d=\"M16 26c-8.837 0-16-2.239-16-5v6c0 2.761 7.163 5 16 5s16-2.239 16-5v-6c0 2.761-7.163 5-16 5z\"></path>\n",
       "</symbol>\n",
       "<symbol id=\"icon-file-text2\" viewBox=\"0 0 32 32\">\n",
       "<path d=\"M28.681 7.159c-0.694-0.947-1.662-2.053-2.724-3.116s-2.169-2.030-3.116-2.724c-1.612-1.182-2.393-1.319-2.841-1.319h-15.5c-1.378 0-2.5 1.121-2.5 2.5v27c0 1.378 1.122 2.5 2.5 2.5h23c1.378 0 2.5-1.122 2.5-2.5v-19.5c0-0.448-0.137-1.23-1.319-2.841zM24.543 5.457c0.959 0.959 1.712 1.825 2.268 2.543h-4.811v-4.811c0.718 0.556 1.584 1.309 2.543 2.268zM28 29.5c0 0.271-0.229 0.5-0.5 0.5h-23c-0.271 0-0.5-0.229-0.5-0.5v-27c0-0.271 0.229-0.5 0.5-0.5 0 0 15.499-0 15.5 0v7c0 0.552 0.448 1 1 1h7v19.5z\"></path>\n",
       "<path d=\"M23 26h-14c-0.552 0-1-0.448-1-1s0.448-1 1-1h14c0.552 0 1 0.448 1 1s-0.448 1-1 1z\"></path>\n",
       "<path d=\"M23 22h-14c-0.552 0-1-0.448-1-1s0.448-1 1-1h14c0.552 0 1 0.448 1 1s-0.448 1-1 1z\"></path>\n",
       "<path d=\"M23 18h-14c-0.552 0-1-0.448-1-1s0.448-1 1-1h14c0.552 0 1 0.448 1 1s-0.448 1-1 1z\"></path>\n",
       "</symbol>\n",
       "</defs>\n",
       "</svg>\n",
       "<style>/* CSS stylesheet for displaying xarray objects in jupyterlab.\n",
       " *\n",
       " */\n",
       "\n",
       ":root {\n",
       "  --xr-font-color0: var(--jp-content-font-color0, rgba(0, 0, 0, 1));\n",
       "  --xr-font-color2: var(--jp-content-font-color2, rgba(0, 0, 0, 0.54));\n",
       "  --xr-font-color3: var(--jp-content-font-color3, rgba(0, 0, 0, 0.38));\n",
       "  --xr-border-color: var(--jp-border-color2, #e0e0e0);\n",
       "  --xr-disabled-color: var(--jp-layout-color3, #bdbdbd);\n",
       "  --xr-background-color: var(--jp-layout-color0, white);\n",
       "  --xr-background-color-row-even: var(--jp-layout-color1, white);\n",
       "  --xr-background-color-row-odd: var(--jp-layout-color2, #eeeeee);\n",
       "}\n",
       "\n",
       "html[theme=\"dark\"],\n",
       "html[data-theme=\"dark\"],\n",
       "body[data-theme=\"dark\"],\n",
       "body.vscode-dark {\n",
       "  --xr-font-color0: rgba(255, 255, 255, 1);\n",
       "  --xr-font-color2: rgba(255, 255, 255, 0.54);\n",
       "  --xr-font-color3: rgba(255, 255, 255, 0.38);\n",
       "  --xr-border-color: #1f1f1f;\n",
       "  --xr-disabled-color: #515151;\n",
       "  --xr-background-color: #111111;\n",
       "  --xr-background-color-row-even: #111111;\n",
       "  --xr-background-color-row-odd: #313131;\n",
       "}\n",
       "\n",
       ".xr-wrap {\n",
       "  display: block !important;\n",
       "  min-width: 300px;\n",
       "  max-width: 700px;\n",
       "}\n",
       "\n",
       ".xr-text-repr-fallback {\n",
       "  /* fallback to plain text repr when CSS is not injected (untrusted notebook) */\n",
       "  display: none;\n",
       "}\n",
       "\n",
       ".xr-header {\n",
       "  padding-top: 6px;\n",
       "  padding-bottom: 6px;\n",
       "  margin-bottom: 4px;\n",
       "  border-bottom: solid 1px var(--xr-border-color);\n",
       "}\n",
       "\n",
       ".xr-header > div,\n",
       ".xr-header > ul {\n",
       "  display: inline;\n",
       "  margin-top: 0;\n",
       "  margin-bottom: 0;\n",
       "}\n",
       "\n",
       ".xr-obj-type,\n",
       ".xr-array-name {\n",
       "  margin-left: 2px;\n",
       "  margin-right: 10px;\n",
       "}\n",
       "\n",
       ".xr-obj-type {\n",
       "  color: var(--xr-font-color2);\n",
       "}\n",
       "\n",
       ".xr-sections {\n",
       "  padding-left: 0 !important;\n",
       "  display: grid;\n",
       "  grid-template-columns: 150px auto auto 1fr 0 20px 0 20px;\n",
       "}\n",
       "\n",
       ".xr-section-item {\n",
       "  display: contents;\n",
       "}\n",
       "\n",
       ".xr-section-item input {\n",
       "  display: inline-block;\n",
       "  opacity: 0;\n",
       "  height: 0;\n",
       "}\n",
       "\n",
       ".xr-section-item input + label {\n",
       "  color: var(--xr-disabled-color);\n",
       "}\n",
       "\n",
       ".xr-section-item input:enabled + label {\n",
       "  cursor: pointer;\n",
       "  color: var(--xr-font-color2);\n",
       "}\n",
       "\n",
       ".xr-section-item input:focus + label {\n",
       "  border: 2px solid var(--xr-font-color0);\n",
       "}\n",
       "\n",
       ".xr-section-item input:enabled + label:hover {\n",
       "  color: var(--xr-font-color0);\n",
       "}\n",
       "\n",
       ".xr-section-summary {\n",
       "  grid-column: 1;\n",
       "  color: var(--xr-font-color2);\n",
       "  font-weight: 500;\n",
       "}\n",
       "\n",
       ".xr-section-summary > span {\n",
       "  display: inline-block;\n",
       "  padding-left: 0.5em;\n",
       "}\n",
       "\n",
       ".xr-section-summary-in:disabled + label {\n",
       "  color: var(--xr-font-color2);\n",
       "}\n",
       "\n",
       ".xr-section-summary-in + label:before {\n",
       "  display: inline-block;\n",
       "  content: \"►\";\n",
       "  font-size: 11px;\n",
       "  width: 15px;\n",
       "  text-align: center;\n",
       "}\n",
       "\n",
       ".xr-section-summary-in:disabled + label:before {\n",
       "  color: var(--xr-disabled-color);\n",
       "}\n",
       "\n",
       ".xr-section-summary-in:checked + label:before {\n",
       "  content: \"▼\";\n",
       "}\n",
       "\n",
       ".xr-section-summary-in:checked + label > span {\n",
       "  display: none;\n",
       "}\n",
       "\n",
       ".xr-section-summary,\n",
       ".xr-section-inline-details {\n",
       "  padding-top: 4px;\n",
       "  padding-bottom: 4px;\n",
       "}\n",
       "\n",
       ".xr-section-inline-details {\n",
       "  grid-column: 2 / -1;\n",
       "}\n",
       "\n",
       ".xr-section-details {\n",
       "  display: none;\n",
       "  grid-column: 1 / -1;\n",
       "  margin-bottom: 5px;\n",
       "}\n",
       "\n",
       ".xr-section-summary-in:checked ~ .xr-section-details {\n",
       "  display: contents;\n",
       "}\n",
       "\n",
       ".xr-array-wrap {\n",
       "  grid-column: 1 / -1;\n",
       "  display: grid;\n",
       "  grid-template-columns: 20px auto;\n",
       "}\n",
       "\n",
       ".xr-array-wrap > label {\n",
       "  grid-column: 1;\n",
       "  vertical-align: top;\n",
       "}\n",
       "\n",
       ".xr-preview {\n",
       "  color: var(--xr-font-color3);\n",
       "}\n",
       "\n",
       ".xr-array-preview,\n",
       ".xr-array-data {\n",
       "  padding: 0 5px !important;\n",
       "  grid-column: 2;\n",
       "}\n",
       "\n",
       ".xr-array-data,\n",
       ".xr-array-in:checked ~ .xr-array-preview {\n",
       "  display: none;\n",
       "}\n",
       "\n",
       ".xr-array-in:checked ~ .xr-array-data,\n",
       ".xr-array-preview {\n",
       "  display: inline-block;\n",
       "}\n",
       "\n",
       ".xr-dim-list {\n",
       "  display: inline-block !important;\n",
       "  list-style: none;\n",
       "  padding: 0 !important;\n",
       "  margin: 0;\n",
       "}\n",
       "\n",
       ".xr-dim-list li {\n",
       "  display: inline-block;\n",
       "  padding: 0;\n",
       "  margin: 0;\n",
       "}\n",
       "\n",
       ".xr-dim-list:before {\n",
       "  content: \"(\";\n",
       "}\n",
       "\n",
       ".xr-dim-list:after {\n",
       "  content: \")\";\n",
       "}\n",
       "\n",
       ".xr-dim-list li:not(:last-child):after {\n",
       "  content: \",\";\n",
       "  padding-right: 5px;\n",
       "}\n",
       "\n",
       ".xr-has-index {\n",
       "  font-weight: bold;\n",
       "}\n",
       "\n",
       ".xr-var-list,\n",
       ".xr-var-item {\n",
       "  display: contents;\n",
       "}\n",
       "\n",
       ".xr-var-item > div,\n",
       ".xr-var-item label,\n",
       ".xr-var-item > .xr-var-name span {\n",
       "  background-color: var(--xr-background-color-row-even);\n",
       "  margin-bottom: 0;\n",
       "}\n",
       "\n",
       ".xr-var-item > .xr-var-name:hover span {\n",
       "  padding-right: 5px;\n",
       "}\n",
       "\n",
       ".xr-var-list > li:nth-child(odd) > div,\n",
       ".xr-var-list > li:nth-child(odd) > label,\n",
       ".xr-var-list > li:nth-child(odd) > .xr-var-name span {\n",
       "  background-color: var(--xr-background-color-row-odd);\n",
       "}\n",
       "\n",
       ".xr-var-name {\n",
       "  grid-column: 1;\n",
       "}\n",
       "\n",
       ".xr-var-dims {\n",
       "  grid-column: 2;\n",
       "}\n",
       "\n",
       ".xr-var-dtype {\n",
       "  grid-column: 3;\n",
       "  text-align: right;\n",
       "  color: var(--xr-font-color2);\n",
       "}\n",
       "\n",
       ".xr-var-preview {\n",
       "  grid-column: 4;\n",
       "}\n",
       "\n",
       ".xr-index-preview {\n",
       "  grid-column: 2 / 5;\n",
       "  color: var(--xr-font-color2);\n",
       "}\n",
       "\n",
       ".xr-var-name,\n",
       ".xr-var-dims,\n",
       ".xr-var-dtype,\n",
       ".xr-preview,\n",
       ".xr-attrs dt {\n",
       "  white-space: nowrap;\n",
       "  overflow: hidden;\n",
       "  text-overflow: ellipsis;\n",
       "  padding-right: 10px;\n",
       "}\n",
       "\n",
       ".xr-var-name:hover,\n",
       ".xr-var-dims:hover,\n",
       ".xr-var-dtype:hover,\n",
       ".xr-attrs dt:hover {\n",
       "  overflow: visible;\n",
       "  width: auto;\n",
       "  z-index: 1;\n",
       "}\n",
       "\n",
       ".xr-var-attrs,\n",
       ".xr-var-data,\n",
       ".xr-index-data {\n",
       "  display: none;\n",
       "  background-color: var(--xr-background-color) !important;\n",
       "  padding-bottom: 5px !important;\n",
       "}\n",
       "\n",
       ".xr-var-attrs-in:checked ~ .xr-var-attrs,\n",
       ".xr-var-data-in:checked ~ .xr-var-data,\n",
       ".xr-index-data-in:checked ~ .xr-index-data {\n",
       "  display: block;\n",
       "}\n",
       "\n",
       ".xr-var-data > table {\n",
       "  float: right;\n",
       "}\n",
       "\n",
       ".xr-var-name span,\n",
       ".xr-var-data,\n",
       ".xr-index-name div,\n",
       ".xr-index-data,\n",
       ".xr-attrs {\n",
       "  padding-left: 25px !important;\n",
       "}\n",
       "\n",
       ".xr-attrs,\n",
       ".xr-var-attrs,\n",
       ".xr-var-data,\n",
       ".xr-index-data {\n",
       "  grid-column: 1 / -1;\n",
       "}\n",
       "\n",
       "dl.xr-attrs {\n",
       "  padding: 0;\n",
       "  margin: 0;\n",
       "  display: grid;\n",
       "  grid-template-columns: 125px auto;\n",
       "}\n",
       "\n",
       ".xr-attrs dt,\n",
       ".xr-attrs dd {\n",
       "  padding: 0;\n",
       "  margin: 0;\n",
       "  float: left;\n",
       "  padding-right: 10px;\n",
       "  width: auto;\n",
       "}\n",
       "\n",
       ".xr-attrs dt {\n",
       "  font-weight: normal;\n",
       "  grid-column: 1;\n",
       "}\n",
       "\n",
       ".xr-attrs dt:hover span {\n",
       "  display: inline-block;\n",
       "  background: var(--xr-background-color);\n",
       "  padding-right: 10px;\n",
       "}\n",
       "\n",
       ".xr-attrs dd {\n",
       "  grid-column: 2;\n",
       "  white-space: pre-wrap;\n",
       "  word-break: break-all;\n",
       "}\n",
       "\n",
       ".xr-icon-database,\n",
       ".xr-icon-file-text2,\n",
       ".xr-no-icon {\n",
       "  display: inline-block;\n",
       "  vertical-align: middle;\n",
       "  width: 1em;\n",
       "  height: 1.5em !important;\n",
       "  stroke-width: 0;\n",
       "  stroke: currentColor;\n",
       "  fill: currentColor;\n",
       "}\n",
       "</style><pre class='xr-text-repr-fallback'>&lt;xarray.Dataset&gt; Size: 9GB\n",
       "Dimensions:  (x: 128, y: 128, time: 4801)\n",
       "Coordinates:\n",
       "  * x        (x) float32 512B 0.0 1e+03 2e+03 ... 1.25e+05 1.26e+05 1.27e+05\n",
       "  * y        (y) float32 512B 0.0 1e+03 2e+03 ... 1.25e+05 1.26e+05 1.27e+05\n",
       "  * time     (time) float32 19kB 30.25 30.26 30.27 30.28 ... 80.23 80.24 80.25\n",
       "Data variables: (12/29)\n",
       "    Prec     (time, y, x) float32 315MB ...\n",
       "    SHF      (time, y, x) float32 315MB ...\n",
       "    LHF      (time, y, x) float32 315MB ...\n",
       "    LWNS     (time, y, x) float32 315MB ...\n",
       "    LWNSC    (time, y, x) float32 315MB ...\n",
       "    LWNT     (time, y, x) float32 315MB ...\n",
       "    ...       ...\n",
       "    U850     (time, y, x) float32 315MB ...\n",
       "    V850     (time, y, x) float32 315MB ...\n",
       "    ZC       (time, y, x) float32 315MB ...\n",
       "    TB       (time, y, x) float32 315MB ...\n",
       "    ZE       (time, y, x) float32 315MB ...\n",
       "    CLDC     (time, y, x) float32 315MB ...\n",
       "Attributes:\n",
       "    history:  Thu Dec  5 10:21:30 2024: ncrcat RCE_T300_U0_SAM1MOM_B1_128x128...\n",
       "    NCO:      netCDF Operators version 4.8.1 (Homepage = http://nco.sf.net, C...</pre><div class='xr-wrap' style='display:none'><div class='xr-header'><div class='xr-obj-type'>xarray.Dataset</div></div><ul class='xr-sections'><li class='xr-section-item'><input id='section-6fe7dd3e-40da-459d-8704-510b8b488c28' class='xr-section-summary-in' type='checkbox' disabled ><label for='section-6fe7dd3e-40da-459d-8704-510b8b488c28' class='xr-section-summary'  title='Expand/collapse section'>Dimensions:</label><div class='xr-section-inline-details'><ul class='xr-dim-list'><li><span class='xr-has-index'>x</span>: 128</li><li><span class='xr-has-index'>y</span>: 128</li><li><span class='xr-has-index'>time</span>: 4801</li></ul></div><div class='xr-section-details'></div></li><li class='xr-section-item'><input id='section-b12c4dfb-41cd-4e47-bb86-fb7a8780e802' class='xr-section-summary-in' type='checkbox'  checked><label for='section-b12c4dfb-41cd-4e47-bb86-fb7a8780e802' class='xr-section-summary' >Coordinates: <span>(3)</span></label><div class='xr-section-inline-details'></div><div class='xr-section-details'><ul class='xr-var-list'><li class='xr-var-item'><div class='xr-var-name'><span class='xr-has-index'>x</span></div><div class='xr-var-dims'>(x)</div><div class='xr-var-dtype'>float32</div><div class='xr-var-preview xr-preview'>0.0 1e+03 ... 1.26e+05 1.27e+05</div><input id='attrs-505f8cc1-4f78-4028-8739-295be3392d8b' class='xr-var-attrs-in' type='checkbox' ><label for='attrs-505f8cc1-4f78-4028-8739-295be3392d8b' title='Show/Hide attributes'><svg class='icon xr-icon-file-text2'><use xlink:href='#icon-file-text2'></use></svg></label><input id='data-a079d780-ab2a-4d0c-9bf2-9f9834a72d93' class='xr-var-data-in' type='checkbox'><label for='data-a079d780-ab2a-4d0c-9bf2-9f9834a72d93' title='Show/Hide data repr'><svg class='icon xr-icon-database'><use xlink:href='#icon-database'></use></svg></label><div class='xr-var-attrs'><dl class='xr-attrs'><dt><span>units :</span></dt><dd>m</dd></dl></div><div class='xr-var-data'><pre>array([     0.,   1000.,   2000.,   3000.,   4000.,   5000.,   6000.,   7000.,\n",
       "         8000.,   9000.,  10000.,  11000.,  12000.,  13000.,  14000.,  15000.,\n",
       "        16000.,  17000.,  18000.,  19000.,  20000.,  21000.,  22000.,  23000.,\n",
       "        24000.,  25000.,  26000.,  27000.,  28000.,  29000.,  30000.,  31000.,\n",
       "        32000.,  33000.,  34000.,  35000.,  36000.,  37000.,  38000.,  39000.,\n",
       "        40000.,  41000.,  42000.,  43000.,  44000.,  45000.,  46000.,  47000.,\n",
       "        48000.,  49000.,  50000.,  51000.,  52000.,  53000.,  54000.,  55000.,\n",
       "        56000.,  57000.,  58000.,  59000.,  60000.,  61000.,  62000.,  63000.,\n",
       "        64000.,  65000.,  66000.,  67000.,  68000.,  69000.,  70000.,  71000.,\n",
       "        72000.,  73000.,  74000.,  75000.,  76000.,  77000.,  78000.,  79000.,\n",
       "        80000.,  81000.,  82000.,  83000.,  84000.,  85000.,  86000.,  87000.,\n",
       "        88000.,  89000.,  90000.,  91000.,  92000.,  93000.,  94000.,  95000.,\n",
       "        96000.,  97000.,  98000.,  99000., 100000., 101000., 102000., 103000.,\n",
       "       104000., 105000., 106000., 107000., 108000., 109000., 110000., 111000.,\n",
       "       112000., 113000., 114000., 115000., 116000., 117000., 118000., 119000.,\n",
       "       120000., 121000., 122000., 123000., 124000., 125000., 126000., 127000.],\n",
       "      dtype=float32)</pre></div></li><li class='xr-var-item'><div class='xr-var-name'><span class='xr-has-index'>y</span></div><div class='xr-var-dims'>(y)</div><div class='xr-var-dtype'>float32</div><div class='xr-var-preview xr-preview'>0.0 1e+03 ... 1.26e+05 1.27e+05</div><input id='attrs-c2851087-5d80-42cc-ae48-657b17e5c994' class='xr-var-attrs-in' type='checkbox' ><label for='attrs-c2851087-5d80-42cc-ae48-657b17e5c994' title='Show/Hide attributes'><svg class='icon xr-icon-file-text2'><use xlink:href='#icon-file-text2'></use></svg></label><input id='data-e8cb5be2-b843-478b-888b-9d119f8ca4ca' class='xr-var-data-in' type='checkbox'><label for='data-e8cb5be2-b843-478b-888b-9d119f8ca4ca' title='Show/Hide data repr'><svg class='icon xr-icon-database'><use xlink:href='#icon-database'></use></svg></label><div class='xr-var-attrs'><dl class='xr-attrs'><dt><span>units :</span></dt><dd>m</dd></dl></div><div class='xr-var-data'><pre>array([     0.,   1000.,   2000.,   3000.,   4000.,   5000.,   6000.,   7000.,\n",
       "         8000.,   9000.,  10000.,  11000.,  12000.,  13000.,  14000.,  15000.,\n",
       "        16000.,  17000.,  18000.,  19000.,  20000.,  21000.,  22000.,  23000.,\n",
       "        24000.,  25000.,  26000.,  27000.,  28000.,  29000.,  30000.,  31000.,\n",
       "        32000.,  33000.,  34000.,  35000.,  36000.,  37000.,  38000.,  39000.,\n",
       "        40000.,  41000.,  42000.,  43000.,  44000.,  45000.,  46000.,  47000.,\n",
       "        48000.,  49000.,  50000.,  51000.,  52000.,  53000.,  54000.,  55000.,\n",
       "        56000.,  57000.,  58000.,  59000.,  60000.,  61000.,  62000.,  63000.,\n",
       "        64000.,  65000.,  66000.,  67000.,  68000.,  69000.,  70000.,  71000.,\n",
       "        72000.,  73000.,  74000.,  75000.,  76000.,  77000.,  78000.,  79000.,\n",
       "        80000.,  81000.,  82000.,  83000.,  84000.,  85000.,  86000.,  87000.,\n",
       "        88000.,  89000.,  90000.,  91000.,  92000.,  93000.,  94000.,  95000.,\n",
       "        96000.,  97000.,  98000.,  99000., 100000., 101000., 102000., 103000.,\n",
       "       104000., 105000., 106000., 107000., 108000., 109000., 110000., 111000.,\n",
       "       112000., 113000., 114000., 115000., 116000., 117000., 118000., 119000.,\n",
       "       120000., 121000., 122000., 123000., 124000., 125000., 126000., 127000.],\n",
       "      dtype=float32)</pre></div></li><li class='xr-var-item'><div class='xr-var-name'><span class='xr-has-index'>time</span></div><div class='xr-var-dims'>(time)</div><div class='xr-var-dtype'>float32</div><div class='xr-var-preview xr-preview'>30.25 30.26 30.27 ... 80.24 80.25</div><input id='attrs-ddfd1347-8208-4786-a585-5ec2c8d5121d' class='xr-var-attrs-in' type='checkbox' ><label for='attrs-ddfd1347-8208-4786-a585-5ec2c8d5121d' title='Show/Hide attributes'><svg class='icon xr-icon-file-text2'><use xlink:href='#icon-file-text2'></use></svg></label><input id='data-fdc1e3e0-9108-446a-bfdb-2dd53e95cce1' class='xr-var-data-in' type='checkbox'><label for='data-fdc1e3e0-9108-446a-bfdb-2dd53e95cce1' title='Show/Hide data repr'><svg class='icon xr-icon-database'><use xlink:href='#icon-database'></use></svg></label><div class='xr-var-attrs'><dl class='xr-attrs'><dt><span>units :</span></dt><dd>day</dd><dt><span>long_name :</span></dt><dd>time</dd></dl></div><div class='xr-var-data'><pre>array([30.25   , 30.26042, 30.27083, ..., 80.22916, 80.23959, 80.25   ],\n",
       "      dtype=float32)</pre></div></li></ul></div></li><li class='xr-section-item'><input id='section-d0ba4a03-2355-436a-97ff-0945c9d73450' class='xr-section-summary-in' type='checkbox'  ><label for='section-d0ba4a03-2355-436a-97ff-0945c9d73450' class='xr-section-summary' >Data variables: <span>(29)</span></label><div class='xr-section-inline-details'></div><div class='xr-section-details'><ul class='xr-var-list'><li class='xr-var-item'><div class='xr-var-name'><span>Prec</span></div><div class='xr-var-dims'>(time, y, x)</div><div class='xr-var-dtype'>float32</div><div class='xr-var-preview xr-preview'>...</div><input id='attrs-ac74082b-5233-4337-a9b8-e2fb3b0a17c5' class='xr-var-attrs-in' type='checkbox' ><label for='attrs-ac74082b-5233-4337-a9b8-e2fb3b0a17c5' title='Show/Hide attributes'><svg class='icon xr-icon-file-text2'><use xlink:href='#icon-file-text2'></use></svg></label><input id='data-b046c10f-bad9-4542-ac9d-b271437bdcc6' class='xr-var-data-in' type='checkbox'><label for='data-b046c10f-bad9-4542-ac9d-b271437bdcc6' title='Show/Hide data repr'><svg class='icon xr-icon-database'><use xlink:href='#icon-database'></use></svg></label><div class='xr-var-attrs'><dl class='xr-attrs'><dt><span>long_name :</span></dt><dd>Surface Precip. Rate</dd><dt><span>units :</span></dt><dd>mm/day</dd></dl></div><div class='xr-var-data'><pre>[78659584 values with dtype=float32]</pre></div></li><li class='xr-var-item'><div class='xr-var-name'><span>SHF</span></div><div class='xr-var-dims'>(time, y, x)</div><div class='xr-var-dtype'>float32</div><div class='xr-var-preview xr-preview'>...</div><input id='attrs-022b179c-9030-455b-b3f3-9e17bdd446c6' class='xr-var-attrs-in' type='checkbox' ><label for='attrs-022b179c-9030-455b-b3f3-9e17bdd446c6' title='Show/Hide attributes'><svg class='icon xr-icon-file-text2'><use xlink:href='#icon-file-text2'></use></svg></label><input id='data-9f344516-3a4b-47a0-81e1-3c1176677c22' class='xr-var-data-in' type='checkbox'><label for='data-9f344516-3a4b-47a0-81e1-3c1176677c22' title='Show/Hide data repr'><svg class='icon xr-icon-database'><use xlink:href='#icon-database'></use></svg></label><div class='xr-var-attrs'><dl class='xr-attrs'><dt><span>long_name :</span></dt><dd>Sensible Heat Flux</dd><dt><span>units :</span></dt><dd>W/m2</dd></dl></div><div class='xr-var-data'><pre>[78659584 values with dtype=float32]</pre></div></li><li class='xr-var-item'><div class='xr-var-name'><span>LHF</span></div><div class='xr-var-dims'>(time, y, x)</div><div class='xr-var-dtype'>float32</div><div class='xr-var-preview xr-preview'>...</div><input id='attrs-b4a320f6-bb6f-41be-a5f6-2fbe675b78a9' class='xr-var-attrs-in' type='checkbox' ><label for='attrs-b4a320f6-bb6f-41be-a5f6-2fbe675b78a9' title='Show/Hide attributes'><svg class='icon xr-icon-file-text2'><use xlink:href='#icon-file-text2'></use></svg></label><input id='data-cfeedaca-9bea-4579-af80-773361b8b88d' class='xr-var-data-in' type='checkbox'><label for='data-cfeedaca-9bea-4579-af80-773361b8b88d' title='Show/Hide data repr'><svg class='icon xr-icon-database'><use xlink:href='#icon-database'></use></svg></label><div class='xr-var-attrs'><dl class='xr-attrs'><dt><span>long_name :</span></dt><dd>Latent Heat Flux</dd><dt><span>units :</span></dt><dd>W/m2</dd></dl></div><div class='xr-var-data'><pre>[78659584 values with dtype=float32]</pre></div></li><li class='xr-var-item'><div class='xr-var-name'><span>LWNS</span></div><div class='xr-var-dims'>(time, y, x)</div><div class='xr-var-dtype'>float32</div><div class='xr-var-preview xr-preview'>...</div><input id='attrs-7c37064c-837e-4ece-b0c4-f4739403e751' class='xr-var-attrs-in' type='checkbox' ><label for='attrs-7c37064c-837e-4ece-b0c4-f4739403e751' title='Show/Hide attributes'><svg class='icon xr-icon-file-text2'><use xlink:href='#icon-file-text2'></use></svg></label><input id='data-d4247b19-598e-45d7-8feb-4a1ea161bfda' class='xr-var-data-in' type='checkbox'><label for='data-d4247b19-598e-45d7-8feb-4a1ea161bfda' title='Show/Hide data repr'><svg class='icon xr-icon-database'><use xlink:href='#icon-database'></use></svg></label><div class='xr-var-attrs'><dl class='xr-attrs'><dt><span>long_name :</span></dt><dd>Net LW at the surface</dd><dt><span>units :</span></dt><dd>W/m2</dd></dl></div><div class='xr-var-data'><pre>[78659584 values with dtype=float32]</pre></div></li><li class='xr-var-item'><div class='xr-var-name'><span>LWNSC</span></div><div class='xr-var-dims'>(time, y, x)</div><div class='xr-var-dtype'>float32</div><div class='xr-var-preview xr-preview'>...</div><input id='attrs-2c993a7c-d8c6-4395-82a5-14d9fe7b97fd' class='xr-var-attrs-in' type='checkbox' ><label for='attrs-2c993a7c-d8c6-4395-82a5-14d9fe7b97fd' title='Show/Hide attributes'><svg class='icon xr-icon-file-text2'><use xlink:href='#icon-file-text2'></use></svg></label><input id='data-60cc52f1-f684-47d2-ada8-f5cd9f94f00a' class='xr-var-data-in' type='checkbox'><label for='data-60cc52f1-f684-47d2-ada8-f5cd9f94f00a' title='Show/Hide data repr'><svg class='icon xr-icon-database'><use xlink:href='#icon-database'></use></svg></label><div class='xr-var-attrs'><dl class='xr-attrs'><dt><span>long_name :</span></dt><dd>Net clear-sky LW at the surface</dd><dt><span>units :</span></dt><dd>W/m2</dd></dl></div><div class='xr-var-data'><pre>[78659584 values with dtype=float32]</pre></div></li><li class='xr-var-item'><div class='xr-var-name'><span>LWNT</span></div><div class='xr-var-dims'>(time, y, x)</div><div class='xr-var-dtype'>float32</div><div class='xr-var-preview xr-preview'>...</div><input id='attrs-5e247cd5-4f8f-4b78-a23e-3e3fdc893a2a' class='xr-var-attrs-in' type='checkbox' ><label for='attrs-5e247cd5-4f8f-4b78-a23e-3e3fdc893a2a' title='Show/Hide attributes'><svg class='icon xr-icon-file-text2'><use xlink:href='#icon-file-text2'></use></svg></label><input id='data-e92f8d1d-90b3-4122-95f2-11fd5378a1fb' class='xr-var-data-in' type='checkbox'><label for='data-e92f8d1d-90b3-4122-95f2-11fd5378a1fb' title='Show/Hide data repr'><svg class='icon xr-icon-database'><use xlink:href='#icon-database'></use></svg></label><div class='xr-var-attrs'><dl class='xr-attrs'><dt><span>long_name :</span></dt><dd>Net LW at TOA</dd><dt><span>units :</span></dt><dd>W/m2</dd></dl></div><div class='xr-var-data'><pre>[78659584 values with dtype=float32]</pre></div></li><li class='xr-var-item'><div class='xr-var-name'><span>LWNTC</span></div><div class='xr-var-dims'>(time, y, x)</div><div class='xr-var-dtype'>float32</div><div class='xr-var-preview xr-preview'>...</div><input id='attrs-b99b4f2b-4187-47cf-afb5-40a856ea1782' class='xr-var-attrs-in' type='checkbox' ><label for='attrs-b99b4f2b-4187-47cf-afb5-40a856ea1782' title='Show/Hide attributes'><svg class='icon xr-icon-file-text2'><use xlink:href='#icon-file-text2'></use></svg></label><input id='data-40e64ccf-f97f-4a1e-b902-fde7afd6af5e' class='xr-var-data-in' type='checkbox'><label for='data-40e64ccf-f97f-4a1e-b902-fde7afd6af5e' title='Show/Hide data repr'><svg class='icon xr-icon-database'><use xlink:href='#icon-database'></use></svg></label><div class='xr-var-attrs'><dl class='xr-attrs'><dt><span>long_name :</span></dt><dd>Clear-Sky Net LW at TOA</dd><dt><span>units :</span></dt><dd>W/m2</dd></dl></div><div class='xr-var-data'><pre>[78659584 values with dtype=float32]</pre></div></li><li class='xr-var-item'><div class='xr-var-name'><span>SOLIN</span></div><div class='xr-var-dims'>(time, y, x)</div><div class='xr-var-dtype'>float32</div><div class='xr-var-preview xr-preview'>...</div><input id='attrs-ea3ba5d2-e5fb-43b5-b9ce-6b4279b5103c' class='xr-var-attrs-in' type='checkbox' ><label for='attrs-ea3ba5d2-e5fb-43b5-b9ce-6b4279b5103c' title='Show/Hide attributes'><svg class='icon xr-icon-file-text2'><use xlink:href='#icon-file-text2'></use></svg></label><input id='data-4ee650f7-fa57-47b0-afeb-17ee8a2ac917' class='xr-var-data-in' type='checkbox'><label for='data-4ee650f7-fa57-47b0-afeb-17ee8a2ac917' title='Show/Hide data repr'><svg class='icon xr-icon-database'><use xlink:href='#icon-database'></use></svg></label><div class='xr-var-attrs'><dl class='xr-attrs'><dt><span>long_name :</span></dt><dd>Solar TOA insolation</dd><dt><span>units :</span></dt><dd>W/m2</dd></dl></div><div class='xr-var-data'><pre>[78659584 values with dtype=float32]</pre></div></li><li class='xr-var-item'><div class='xr-var-name'><span>SWNS</span></div><div class='xr-var-dims'>(time, y, x)</div><div class='xr-var-dtype'>float32</div><div class='xr-var-preview xr-preview'>...</div><input id='attrs-d63a89dc-c4ca-40b2-bdb1-1fbd6e65410d' class='xr-var-attrs-in' type='checkbox' ><label for='attrs-d63a89dc-c4ca-40b2-bdb1-1fbd6e65410d' title='Show/Hide attributes'><svg class='icon xr-icon-file-text2'><use xlink:href='#icon-file-text2'></use></svg></label><input id='data-e132eeb1-aa39-4475-9b19-3fe67cc7da32' class='xr-var-data-in' type='checkbox'><label for='data-e132eeb1-aa39-4475-9b19-3fe67cc7da32' title='Show/Hide data repr'><svg class='icon xr-icon-database'><use xlink:href='#icon-database'></use></svg></label><div class='xr-var-attrs'><dl class='xr-attrs'><dt><span>long_name :</span></dt><dd>Net SW at the surface</dd><dt><span>units :</span></dt><dd>W/m2</dd></dl></div><div class='xr-var-data'><pre>[78659584 values with dtype=float32]</pre></div></li><li class='xr-var-item'><div class='xr-var-name'><span>SWNSC</span></div><div class='xr-var-dims'>(time, y, x)</div><div class='xr-var-dtype'>float32</div><div class='xr-var-preview xr-preview'>...</div><input id='attrs-845becda-f8a5-4825-afff-4a0ce8fb5910' class='xr-var-attrs-in' type='checkbox' ><label for='attrs-845becda-f8a5-4825-afff-4a0ce8fb5910' title='Show/Hide attributes'><svg class='icon xr-icon-file-text2'><use xlink:href='#icon-file-text2'></use></svg></label><input id='data-fa9278a6-5aa2-426b-a515-b243d7d52dd4' class='xr-var-data-in' type='checkbox'><label for='data-fa9278a6-5aa2-426b-a515-b243d7d52dd4' title='Show/Hide data repr'><svg class='icon xr-icon-database'><use xlink:href='#icon-database'></use></svg></label><div class='xr-var-attrs'><dl class='xr-attrs'><dt><span>long_name :</span></dt><dd>Net Clear-sky SW at the surface</dd><dt><span>units :</span></dt><dd>W/m2</dd></dl></div><div class='xr-var-data'><pre>[78659584 values with dtype=float32]</pre></div></li><li class='xr-var-item'><div class='xr-var-name'><span>SWNT</span></div><div class='xr-var-dims'>(time, y, x)</div><div class='xr-var-dtype'>float32</div><div class='xr-var-preview xr-preview'>...</div><input id='attrs-3718b68b-69ec-45d0-8e89-50c85c145b76' class='xr-var-attrs-in' type='checkbox' ><label for='attrs-3718b68b-69ec-45d0-8e89-50c85c145b76' title='Show/Hide attributes'><svg class='icon xr-icon-file-text2'><use xlink:href='#icon-file-text2'></use></svg></label><input id='data-2ff28110-2059-4ecd-a9dd-262c28255622' class='xr-var-data-in' type='checkbox'><label for='data-2ff28110-2059-4ecd-a9dd-262c28255622' title='Show/Hide data repr'><svg class='icon xr-icon-database'><use xlink:href='#icon-database'></use></svg></label><div class='xr-var-attrs'><dl class='xr-attrs'><dt><span>long_name :</span></dt><dd>Net SW at TOA</dd><dt><span>units :</span></dt><dd>W/m2</dd></dl></div><div class='xr-var-data'><pre>[78659584 values with dtype=float32]</pre></div></li><li class='xr-var-item'><div class='xr-var-name'><span>SWNTC</span></div><div class='xr-var-dims'>(time, y, x)</div><div class='xr-var-dtype'>float32</div><div class='xr-var-preview xr-preview'>...</div><input id='attrs-cbe11255-e254-4313-957a-7f1fae8e09eb' class='xr-var-attrs-in' type='checkbox' ><label for='attrs-cbe11255-e254-4313-957a-7f1fae8e09eb' title='Show/Hide attributes'><svg class='icon xr-icon-file-text2'><use xlink:href='#icon-file-text2'></use></svg></label><input id='data-af3d7ec3-b43c-4bd8-b568-6d038b5d214f' class='xr-var-data-in' type='checkbox'><label for='data-af3d7ec3-b43c-4bd8-b568-6d038b5d214f' title='Show/Hide data repr'><svg class='icon xr-icon-database'><use xlink:href='#icon-database'></use></svg></label><div class='xr-var-attrs'><dl class='xr-attrs'><dt><span>long_name :</span></dt><dd>Net Clear-Sky SW at TOA</dd><dt><span>units :</span></dt><dd>W/m2</dd></dl></div><div class='xr-var-data'><pre>[78659584 values with dtype=float32]</pre></div></li><li class='xr-var-item'><div class='xr-var-name'><span>CWP</span></div><div class='xr-var-dims'>(time, y, x)</div><div class='xr-var-dtype'>float32</div><div class='xr-var-preview xr-preview'>...</div><input id='attrs-08b66fee-3a4c-467c-8d31-ec7b5a296167' class='xr-var-attrs-in' type='checkbox' ><label for='attrs-08b66fee-3a4c-467c-8d31-ec7b5a296167' title='Show/Hide attributes'><svg class='icon xr-icon-file-text2'><use xlink:href='#icon-file-text2'></use></svg></label><input id='data-466c2ca4-f42f-466c-8d74-7b55581a4fe4' class='xr-var-data-in' type='checkbox'><label for='data-466c2ca4-f42f-466c-8d74-7b55581a4fe4' title='Show/Hide data repr'><svg class='icon xr-icon-database'><use xlink:href='#icon-database'></use></svg></label><div class='xr-var-attrs'><dl class='xr-attrs'><dt><span>long_name :</span></dt><dd>Cloud Water Path</dd><dt><span>units :</span></dt><dd>mm</dd></dl></div><div class='xr-var-data'><pre>[78659584 values with dtype=float32]</pre></div></li><li class='xr-var-item'><div class='xr-var-name'><span>IWP</span></div><div class='xr-var-dims'>(time, y, x)</div><div class='xr-var-dtype'>float32</div><div class='xr-var-preview xr-preview'>...</div><input id='attrs-7f798886-daa1-450f-90fe-0ef384dfee02' class='xr-var-attrs-in' type='checkbox' ><label for='attrs-7f798886-daa1-450f-90fe-0ef384dfee02' title='Show/Hide attributes'><svg class='icon xr-icon-file-text2'><use xlink:href='#icon-file-text2'></use></svg></label><input id='data-484e01f2-cff7-4e77-8a43-153f15d88dcc' class='xr-var-data-in' type='checkbox'><label for='data-484e01f2-cff7-4e77-8a43-153f15d88dcc' title='Show/Hide data repr'><svg class='icon xr-icon-database'><use xlink:href='#icon-database'></use></svg></label><div class='xr-var-attrs'><dl class='xr-attrs'><dt><span>long_name :</span></dt><dd>Ice Path</dd><dt><span>units :</span></dt><dd>mm</dd></dl></div><div class='xr-var-data'><pre>[78659584 values with dtype=float32]</pre></div></li><li class='xr-var-item'><div class='xr-var-name'><span>CLD</span></div><div class='xr-var-dims'>(time, y, x)</div><div class='xr-var-dtype'>float32</div><div class='xr-var-preview xr-preview'>...</div><input id='attrs-8a9125f5-e9c8-4396-9b2a-899b6a4366d4' class='xr-var-attrs-in' type='checkbox' ><label for='attrs-8a9125f5-e9c8-4396-9b2a-899b6a4366d4' title='Show/Hide attributes'><svg class='icon xr-icon-file-text2'><use xlink:href='#icon-file-text2'></use></svg></label><input id='data-a894324d-5a3a-486d-8864-13ffab0eb2aa' class='xr-var-data-in' type='checkbox'><label for='data-a894324d-5a3a-486d-8864-13ffab0eb2aa' title='Show/Hide data repr'><svg class='icon xr-icon-database'><use xlink:href='#icon-database'></use></svg></label><div class='xr-var-attrs'><dl class='xr-attrs'><dt><span>long_name :</span></dt><dd>Cloud Frequency</dd><dt><span>units :</span></dt><dd>%</dd></dl></div><div class='xr-var-data'><pre>[78659584 values with dtype=float32]</pre></div></li><li class='xr-var-item'><div class='xr-var-name'><span>PW</span></div><div class='xr-var-dims'>(time, y, x)</div><div class='xr-var-dtype'>float32</div><div class='xr-var-preview xr-preview'>...</div><input id='attrs-79830a98-037f-4311-8fd3-95bf33c305a3' class='xr-var-attrs-in' type='checkbox' ><label for='attrs-79830a98-037f-4311-8fd3-95bf33c305a3' title='Show/Hide attributes'><svg class='icon xr-icon-file-text2'><use xlink:href='#icon-file-text2'></use></svg></label><input id='data-a7c8d976-06d9-40e7-a3eb-5c8714291256' class='xr-var-data-in' type='checkbox'><label for='data-a7c8d976-06d9-40e7-a3eb-5c8714291256' title='Show/Hide data repr'><svg class='icon xr-icon-database'><use xlink:href='#icon-database'></use></svg></label><div class='xr-var-attrs'><dl class='xr-attrs'><dt><span>long_name :</span></dt><dd>Precipitable Water</dd><dt><span>units :</span></dt><dd>mm</dd></dl></div><div class='xr-var-data'><pre>[78659584 values with dtype=float32]</pre></div></li><li class='xr-var-item'><div class='xr-var-name'><span>USFC</span></div><div class='xr-var-dims'>(time, y, x)</div><div class='xr-var-dtype'>float32</div><div class='xr-var-preview xr-preview'>...</div><input id='attrs-52e3e465-d085-434d-bb44-f92afa43e476' class='xr-var-attrs-in' type='checkbox' ><label for='attrs-52e3e465-d085-434d-bb44-f92afa43e476' title='Show/Hide attributes'><svg class='icon xr-icon-file-text2'><use xlink:href='#icon-file-text2'></use></svg></label><input id='data-286b4aa0-72a1-42e5-a30f-8838a43cdf76' class='xr-var-data-in' type='checkbox'><label for='data-286b4aa0-72a1-42e5-a30f-8838a43cdf76' title='Show/Hide data repr'><svg class='icon xr-icon-database'><use xlink:href='#icon-database'></use></svg></label><div class='xr-var-attrs'><dl class='xr-attrs'><dt><span>long_name :</span></dt><dd>U at the surface</dd><dt><span>units :</span></dt><dd>m/s</dd></dl></div><div class='xr-var-data'><pre>[78659584 values with dtype=float32]</pre></div></li><li class='xr-var-item'><div class='xr-var-name'><span>U200</span></div><div class='xr-var-dims'>(time, y, x)</div><div class='xr-var-dtype'>float32</div><div class='xr-var-preview xr-preview'>...</div><input id='attrs-e5576c7e-e0b7-426b-bbdb-0d4b3f0161f1' class='xr-var-attrs-in' type='checkbox' ><label for='attrs-e5576c7e-e0b7-426b-bbdb-0d4b3f0161f1' title='Show/Hide attributes'><svg class='icon xr-icon-file-text2'><use xlink:href='#icon-file-text2'></use></svg></label><input id='data-379bc402-fd76-4a48-bd9f-416ce6a4014b' class='xr-var-data-in' type='checkbox'><label for='data-379bc402-fd76-4a48-bd9f-416ce6a4014b' title='Show/Hide data repr'><svg class='icon xr-icon-database'><use xlink:href='#icon-database'></use></svg></label><div class='xr-var-attrs'><dl class='xr-attrs'><dt><span>long_name :</span></dt><dd>U at 200 mb</dd><dt><span>units :</span></dt><dd>m/s</dd></dl></div><div class='xr-var-data'><pre>[78659584 values with dtype=float32]</pre></div></li><li class='xr-var-item'><div class='xr-var-name'><span>VSFC</span></div><div class='xr-var-dims'>(time, y, x)</div><div class='xr-var-dtype'>float32</div><div class='xr-var-preview xr-preview'>...</div><input id='attrs-d1ff8d67-847d-4683-9f03-1f663b8b65f3' class='xr-var-attrs-in' type='checkbox' ><label for='attrs-d1ff8d67-847d-4683-9f03-1f663b8b65f3' title='Show/Hide attributes'><svg class='icon xr-icon-file-text2'><use xlink:href='#icon-file-text2'></use></svg></label><input id='data-684efb36-c704-4f94-bede-c870ec05343a' class='xr-var-data-in' type='checkbox'><label for='data-684efb36-c704-4f94-bede-c870ec05343a' title='Show/Hide data repr'><svg class='icon xr-icon-database'><use xlink:href='#icon-database'></use></svg></label><div class='xr-var-attrs'><dl class='xr-attrs'><dt><span>long_name :</span></dt><dd>V at the surface</dd><dt><span>units :</span></dt><dd>m/s</dd></dl></div><div class='xr-var-data'><pre>[78659584 values with dtype=float32]</pre></div></li><li class='xr-var-item'><div class='xr-var-name'><span>V200</span></div><div class='xr-var-dims'>(time, y, x)</div><div class='xr-var-dtype'>float32</div><div class='xr-var-preview xr-preview'>...</div><input id='attrs-7b24a4b5-10fe-4598-8d8f-491cfe9507a5' class='xr-var-attrs-in' type='checkbox' ><label for='attrs-7b24a4b5-10fe-4598-8d8f-491cfe9507a5' title='Show/Hide attributes'><svg class='icon xr-icon-file-text2'><use xlink:href='#icon-file-text2'></use></svg></label><input id='data-a11bb245-c71b-49b3-ba18-a101c4bb8fa7' class='xr-var-data-in' type='checkbox'><label for='data-a11bb245-c71b-49b3-ba18-a101c4bb8fa7' title='Show/Hide data repr'><svg class='icon xr-icon-database'><use xlink:href='#icon-database'></use></svg></label><div class='xr-var-attrs'><dl class='xr-attrs'><dt><span>long_name :</span></dt><dd>V at 200 mb</dd><dt><span>units :</span></dt><dd>m/s</dd></dl></div><div class='xr-var-data'><pre>[78659584 values with dtype=float32]</pre></div></li><li class='xr-var-item'><div class='xr-var-name'><span>W500</span></div><div class='xr-var-dims'>(time, y, x)</div><div class='xr-var-dtype'>float32</div><div class='xr-var-preview xr-preview'>...</div><input id='attrs-337305b3-e9e6-43e3-966b-344ebf2acdf3' class='xr-var-attrs-in' type='checkbox' ><label for='attrs-337305b3-e9e6-43e3-966b-344ebf2acdf3' title='Show/Hide attributes'><svg class='icon xr-icon-file-text2'><use xlink:href='#icon-file-text2'></use></svg></label><input id='data-bf6fd16e-7230-419a-8e36-78ca87e94f5c' class='xr-var-data-in' type='checkbox'><label for='data-bf6fd16e-7230-419a-8e36-78ca87e94f5c' title='Show/Hide data repr'><svg class='icon xr-icon-database'><use xlink:href='#icon-database'></use></svg></label><div class='xr-var-attrs'><dl class='xr-attrs'><dt><span>long_name :</span></dt><dd>W at 500 mb</dd><dt><span>units :</span></dt><dd>m/s</dd></dl></div><div class='xr-var-data'><pre>[78659584 values with dtype=float32]</pre></div></li><li class='xr-var-item'><div class='xr-var-name'><span>PSFC</span></div><div class='xr-var-dims'>(time, y, x)</div><div class='xr-var-dtype'>float32</div><div class='xr-var-preview xr-preview'>...</div><input id='attrs-9b507169-fcb6-408a-aa45-ccae290335d9' class='xr-var-attrs-in' type='checkbox' ><label for='attrs-9b507169-fcb6-408a-aa45-ccae290335d9' title='Show/Hide attributes'><svg class='icon xr-icon-file-text2'><use xlink:href='#icon-file-text2'></use></svg></label><input id='data-fc50b481-b20a-425f-b15a-c61406a2da40' class='xr-var-data-in' type='checkbox'><label for='data-fc50b481-b20a-425f-b15a-c61406a2da40' title='Show/Hide data repr'><svg class='icon xr-icon-database'><use xlink:href='#icon-database'></use></svg></label><div class='xr-var-attrs'><dl class='xr-attrs'><dt><span>long_name :</span></dt><dd>P at the surface</dd><dt><span>units :</span></dt><dd>mbar</dd></dl></div><div class='xr-var-data'><pre>[78659584 values with dtype=float32]</pre></div></li><li class='xr-var-item'><div class='xr-var-name'><span>SWVP</span></div><div class='xr-var-dims'>(time, y, x)</div><div class='xr-var-dtype'>float32</div><div class='xr-var-preview xr-preview'>...</div><input id='attrs-d93475ab-a6e1-4c9b-92b5-9bb8cdd51d1c' class='xr-var-attrs-in' type='checkbox' ><label for='attrs-d93475ab-a6e1-4c9b-92b5-9bb8cdd51d1c' title='Show/Hide attributes'><svg class='icon xr-icon-file-text2'><use xlink:href='#icon-file-text2'></use></svg></label><input id='data-26ba0dcd-ef7e-44cd-a191-a68a32de66a4' class='xr-var-data-in' type='checkbox'><label for='data-26ba0dcd-ef7e-44cd-a191-a68a32de66a4' title='Show/Hide data repr'><svg class='icon xr-icon-database'><use xlink:href='#icon-database'></use></svg></label><div class='xr-var-attrs'><dl class='xr-attrs'><dt><span>long_name :</span></dt><dd>Saturated Water Vapor Path</dd><dt><span>units :</span></dt><dd>mm</dd></dl></div><div class='xr-var-data'><pre>[78659584 values with dtype=float32]</pre></div></li><li class='xr-var-item'><div class='xr-var-name'><span>U850</span></div><div class='xr-var-dims'>(time, y, x)</div><div class='xr-var-dtype'>float32</div><div class='xr-var-preview xr-preview'>...</div><input id='attrs-80f64286-5551-4600-841b-e7a40f7b9eba' class='xr-var-attrs-in' type='checkbox' ><label for='attrs-80f64286-5551-4600-841b-e7a40f7b9eba' title='Show/Hide attributes'><svg class='icon xr-icon-file-text2'><use xlink:href='#icon-file-text2'></use></svg></label><input id='data-44f79a09-201b-4fc2-82e2-5c87cbceb6dd' class='xr-var-data-in' type='checkbox'><label for='data-44f79a09-201b-4fc2-82e2-5c87cbceb6dd' title='Show/Hide data repr'><svg class='icon xr-icon-database'><use xlink:href='#icon-database'></use></svg></label><div class='xr-var-attrs'><dl class='xr-attrs'><dt><span>long_name :</span></dt><dd>850 mbar zonal velocity</dd><dt><span>units :</span></dt><dd>m/s</dd></dl></div><div class='xr-var-data'><pre>[78659584 values with dtype=float32]</pre></div></li><li class='xr-var-item'><div class='xr-var-name'><span>V850</span></div><div class='xr-var-dims'>(time, y, x)</div><div class='xr-var-dtype'>float32</div><div class='xr-var-preview xr-preview'>...</div><input id='attrs-ef55576d-3130-4a61-a852-bffe29bac4b7' class='xr-var-attrs-in' type='checkbox' ><label for='attrs-ef55576d-3130-4a61-a852-bffe29bac4b7' title='Show/Hide attributes'><svg class='icon xr-icon-file-text2'><use xlink:href='#icon-file-text2'></use></svg></label><input id='data-636fbfff-8e74-4d05-81f7-e8fc63785141' class='xr-var-data-in' type='checkbox'><label for='data-636fbfff-8e74-4d05-81f7-e8fc63785141' title='Show/Hide data repr'><svg class='icon xr-icon-database'><use xlink:href='#icon-database'></use></svg></label><div class='xr-var-attrs'><dl class='xr-attrs'><dt><span>long_name :</span></dt><dd>850 mbar meridional velocity</dd><dt><span>units :</span></dt><dd>m/s</dd></dl></div><div class='xr-var-data'><pre>[78659584 values with dtype=float32]</pre></div></li><li class='xr-var-item'><div class='xr-var-name'><span>ZC</span></div><div class='xr-var-dims'>(time, y, x)</div><div class='xr-var-dtype'>float32</div><div class='xr-var-preview xr-preview'>...</div><input id='attrs-6e5ff07d-5ac6-4027-9f07-9314ddf796b8' class='xr-var-attrs-in' type='checkbox' ><label for='attrs-6e5ff07d-5ac6-4027-9f07-9314ddf796b8' title='Show/Hide attributes'><svg class='icon xr-icon-file-text2'><use xlink:href='#icon-file-text2'></use></svg></label><input id='data-6275a421-509c-4fb5-953a-d507cbc600aa' class='xr-var-data-in' type='checkbox'><label for='data-6275a421-509c-4fb5-953a-d507cbc600aa' title='Show/Hide data repr'><svg class='icon xr-icon-database'><use xlink:href='#icon-database'></use></svg></label><div class='xr-var-attrs'><dl class='xr-attrs'><dt><span>long_name :</span></dt><dd>Cloud top height (Instantaneous)</dd><dt><span>units :</span></dt><dd>km</dd></dl></div><div class='xr-var-data'><pre>[78659584 values with dtype=float32]</pre></div></li><li class='xr-var-item'><div class='xr-var-name'><span>TB</span></div><div class='xr-var-dims'>(time, y, x)</div><div class='xr-var-dtype'>float32</div><div class='xr-var-preview xr-preview'>...</div><input id='attrs-967b12d8-8bb4-4b31-9db7-250d04f211cc' class='xr-var-attrs-in' type='checkbox' ><label for='attrs-967b12d8-8bb4-4b31-9db7-250d04f211cc' title='Show/Hide attributes'><svg class='icon xr-icon-file-text2'><use xlink:href='#icon-file-text2'></use></svg></label><input id='data-bc6f72da-d0a1-4e16-8884-81639b2057b6' class='xr-var-data-in' type='checkbox'><label for='data-bc6f72da-d0a1-4e16-8884-81639b2057b6' title='Show/Hide data repr'><svg class='icon xr-icon-database'><use xlink:href='#icon-database'></use></svg></label><div class='xr-var-attrs'><dl class='xr-attrs'><dt><span>long_name :</span></dt><dd>Cloud top temperature (Instantaneous)</dd><dt><span>units :</span></dt><dd>K</dd></dl></div><div class='xr-var-data'><pre>[78659584 values with dtype=float32]</pre></div></li><li class='xr-var-item'><div class='xr-var-name'><span>ZE</span></div><div class='xr-var-dims'>(time, y, x)</div><div class='xr-var-dtype'>float32</div><div class='xr-var-preview xr-preview'>...</div><input id='attrs-12adb59b-5af2-45a6-b2ca-6c148566ce62' class='xr-var-attrs-in' type='checkbox' ><label for='attrs-12adb59b-5af2-45a6-b2ca-6c148566ce62' title='Show/Hide attributes'><svg class='icon xr-icon-file-text2'><use xlink:href='#icon-file-text2'></use></svg></label><input id='data-daa18faf-beae-47c0-b341-9bdb45ede6af' class='xr-var-data-in' type='checkbox'><label for='data-daa18faf-beae-47c0-b341-9bdb45ede6af' title='Show/Hide data repr'><svg class='icon xr-icon-database'><use xlink:href='#icon-database'></use></svg></label><div class='xr-var-attrs'><dl class='xr-attrs'><dt><span>long_name :</span></dt><dd>Echo top height (Instantaneous)</dd><dt><span>units :</span></dt><dd>km</dd></dl></div><div class='xr-var-data'><pre>[78659584 values with dtype=float32]</pre></div></li><li class='xr-var-item'><div class='xr-var-name'><span>CLDC</span></div><div class='xr-var-dims'>(time, y, x)</div><div class='xr-var-dtype'>float32</div><div class='xr-var-preview xr-preview'>...</div><input id='attrs-4a4ec39f-3bb7-4d7f-a86b-8a8bb45dc798' class='xr-var-attrs-in' type='checkbox' ><label for='attrs-4a4ec39f-3bb7-4d7f-a86b-8a8bb45dc798' title='Show/Hide attributes'><svg class='icon xr-icon-file-text2'><use xlink:href='#icon-file-text2'></use></svg></label><input id='data-3db204b2-9693-4fa0-b4e6-98fe6e0faafa' class='xr-var-data-in' type='checkbox'><label for='data-3db204b2-9693-4fa0-b4e6-98fe6e0faafa' title='Show/Hide data repr'><svg class='icon xr-icon-database'><use xlink:href='#icon-database'></use></svg></label><div class='xr-var-attrs'><dl class='xr-attrs'><dt><span>long_name :</span></dt><dd>Cloud cover (Instantaneous)</dd><dt><span>units :</span></dt><dd>          </dd></dl></div><div class='xr-var-data'><pre>[78659584 values with dtype=float32]</pre></div></li></ul></div></li><li class='xr-section-item'><input id='section-79965d9d-254f-4994-a7f8-8f24079a7dc2' class='xr-section-summary-in' type='checkbox'  ><label for='section-79965d9d-254f-4994-a7f8-8f24079a7dc2' class='xr-section-summary' >Indexes: <span>(3)</span></label><div class='xr-section-inline-details'></div><div class='xr-section-details'><ul class='xr-var-list'><li class='xr-var-item'><div class='xr-index-name'><div>x</div></div><div class='xr-index-preview'>PandasIndex</div><input type='checkbox' disabled/><label></label><input id='index-8ccf9c55-4538-4bd0-9746-60e8cfe0eb8b' class='xr-index-data-in' type='checkbox'/><label for='index-8ccf9c55-4538-4bd0-9746-60e8cfe0eb8b' title='Show/Hide index repr'><svg class='icon xr-icon-database'><use xlink:href='#icon-database'></use></svg></label><div class='xr-index-data'><pre>PandasIndex(Index([     0.0,   1000.0,   2000.0,   3000.0,   4000.0,   5000.0,   6000.0,\n",
       "         7000.0,   8000.0,   9000.0,\n",
       "       ...\n",
       "       118000.0, 119000.0, 120000.0, 121000.0, 122000.0, 123000.0, 124000.0,\n",
       "       125000.0, 126000.0, 127000.0],\n",
       "      dtype=&#x27;float32&#x27;, name=&#x27;x&#x27;, length=128))</pre></div></li><li class='xr-var-item'><div class='xr-index-name'><div>y</div></div><div class='xr-index-preview'>PandasIndex</div><input type='checkbox' disabled/><label></label><input id='index-09e77727-2c2f-4b39-bb9f-55b65b539558' class='xr-index-data-in' type='checkbox'/><label for='index-09e77727-2c2f-4b39-bb9f-55b65b539558' title='Show/Hide index repr'><svg class='icon xr-icon-database'><use xlink:href='#icon-database'></use></svg></label><div class='xr-index-data'><pre>PandasIndex(Index([     0.0,   1000.0,   2000.0,   3000.0,   4000.0,   5000.0,   6000.0,\n",
       "         7000.0,   8000.0,   9000.0,\n",
       "       ...\n",
       "       118000.0, 119000.0, 120000.0, 121000.0, 122000.0, 123000.0, 124000.0,\n",
       "       125000.0, 126000.0, 127000.0],\n",
       "      dtype=&#x27;float32&#x27;, name=&#x27;y&#x27;, length=128))</pre></div></li><li class='xr-var-item'><div class='xr-index-name'><div>time</div></div><div class='xr-index-preview'>PandasIndex</div><input type='checkbox' disabled/><label></label><input id='index-b06fab33-27b1-46c2-a735-e248e49e52aa' class='xr-index-data-in' type='checkbox'/><label for='index-b06fab33-27b1-46c2-a735-e248e49e52aa' title='Show/Hide index repr'><svg class='icon xr-icon-database'><use xlink:href='#icon-database'></use></svg></label><div class='xr-index-data'><pre>PandasIndex(Index([             30.25, 30.260419845581055, 30.270830154418945,\n",
       "                 30.28125, 30.291669845581055, 30.302080154418945,\n",
       "                  30.3125, 30.322919845581055, 30.333330154418945,\n",
       "                 30.34375,\n",
       "       ...\n",
       "                 80.15625,  80.16665649414062,  80.17709350585938,\n",
       "                  80.1875,  80.19790649414062,  80.20834350585938,\n",
       "                 80.21875,  80.22915649414062,  80.23959350585938,\n",
       "                    80.25],\n",
       "      dtype=&#x27;float32&#x27;, name=&#x27;time&#x27;, length=4801))</pre></div></li></ul></div></li><li class='xr-section-item'><input id='section-b8f457d4-1338-4f04-9f36-d77de768c756' class='xr-section-summary-in' type='checkbox'  checked><label for='section-b8f457d4-1338-4f04-9f36-d77de768c756' class='xr-section-summary' >Attributes: <span>(2)</span></label><div class='xr-section-inline-details'></div><div class='xr-section-details'><dl class='xr-attrs'><dt><span>history :</span></dt><dd>Thu Dec  5 10:21:30 2024: ncrcat RCE_T300_U0_SAM1MOM_B1_128x128x64_64.2Dcom_1.nc RCE_T300_U0_SAM1MOM_B1_128x128x64_64.2Dcom_2.nc RCE_T300_U0_SAM1MOM_B1_128x128x64_64.2Dcom_3.nc RCE_T300_U0_SAM1MOM_B1_128x128x64_64.2Dcom_4.nc RCE_T300_U0_SAM1MOM_B1_128x128x64_64.2Dcom_5.nc dataset_2d.nc</dd><dt><span>NCO :</span></dt><dd>netCDF Operators version 4.8.1 (Homepage = http://nco.sf.net, Code = http://github.com/nco/nco)</dd></dl></div></li></ul></div></div>"
      ],
      "text/plain": [
       "<xarray.Dataset> Size: 9GB\n",
       "Dimensions:  (x: 128, y: 128, time: 4801)\n",
       "Coordinates:\n",
       "  * x        (x) float32 512B 0.0 1e+03 2e+03 ... 1.25e+05 1.26e+05 1.27e+05\n",
       "  * y        (y) float32 512B 0.0 1e+03 2e+03 ... 1.25e+05 1.26e+05 1.27e+05\n",
       "  * time     (time) float32 19kB 30.25 30.26 30.27 30.28 ... 80.23 80.24 80.25\n",
       "Data variables: (12/29)\n",
       "    Prec     (time, y, x) float32 315MB ...\n",
       "    SHF      (time, y, x) float32 315MB ...\n",
       "    LHF      (time, y, x) float32 315MB ...\n",
       "    LWNS     (time, y, x) float32 315MB ...\n",
       "    LWNSC    (time, y, x) float32 315MB ...\n",
       "    LWNT     (time, y, x) float32 315MB ...\n",
       "    ...       ...\n",
       "    U850     (time, y, x) float32 315MB ...\n",
       "    V850     (time, y, x) float32 315MB ...\n",
       "    ZC       (time, y, x) float32 315MB ...\n",
       "    TB       (time, y, x) float32 315MB ...\n",
       "    ZE       (time, y, x) float32 315MB ...\n",
       "    CLDC     (time, y, x) float32 315MB ...\n",
       "Attributes:\n",
       "    history:  Thu Dec  5 10:21:30 2024: ncrcat RCE_T300_U0_SAM1MOM_B1_128x128...\n",
       "    NCO:      netCDF Operators version 4.8.1 (Homepage = http://nco.sf.net, C..."
      ]
     },
     "execution_count": 66,
     "metadata": {},
     "output_type": "execute_result"
    }
   ],
   "source": [
    "ds_3d"
   ]
  },
  {
   "cell_type": "code",
   "execution_count": 17,
   "metadata": {},
   "outputs": [],
   "source": [
    "ds = xr.open_dataset('/home/ec2-user/DeepCloudLab/processed_classes/long_run_RCE_T300_U0_B1_M1_v3/RCE_T300_U0_B1_M1/dataset_isentropic')"
   ]
  },
  {
   "cell_type": "code",
   "execution_count": 20,
   "metadata": {},
   "outputs": [
    {
     "data": {
      "text/plain": [
       "<matplotlib.image.AxesImage at 0x7fdd28cde910>"
      ]
     },
     "execution_count": 20,
     "metadata": {},
     "output_type": "execute_result"
    },
    {
     "data": {
      "image/png": "[encoded data removed]",
      "text/plain": [
       "<Figure size 640x480 with 1 Axes>"
      ]
     },
     "metadata": {},
     "output_type": "display_data"
    }
   ],
   "source": [
    "plt.imshow(ds.RHO_W[10].values)"
   ]
  },
  {
   "cell_type": "code",
   "execution_count": null,
   "metadata": {},
   "outputs": [],
   "source": []
  }
 ],
 "metadata": {
  "kernelspec": {
   "display_name": "samenv",
   "language": "python",
   "name": "python3"
  },
  "language_info": {
   "codemirror_mode": {
    "name": "ipython",
    "version": 3
   },
   "file_extension": ".py",
   "mimetype": "text/x-python",
   "name": "python",
   "nbconvert_exporter": "python",
   "pygments_lexer": "ipython3",
   "version": "3.11.8"
  },
  "orig_nbformat": 4
 },
 "nbformat": 4,
 "nbformat_minor": 2
}
